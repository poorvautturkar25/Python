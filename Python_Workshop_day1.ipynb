{
  "nbformat": 4,
  "nbformat_minor": 0,
  "metadata": {
    "colab": {
      "provenance": [],
      "authorship_tag": "ABX9TyPRJs+/5+z541mU3Wyur4TK",
      "include_colab_link": true
    },
    "kernelspec": {
      "name": "python3",
      "display_name": "Python 3"
    },
    "language_info": {
      "name": "python"
    }
  },
  "cells": [
    {
      "cell_type": "markdown",
      "metadata": {
        "id": "view-in-github",
        "colab_type": "text"
      },
      "source": [
        "<a href=\"https://colab.research.google.com/github/poorvautturkar25/Python/blob/main/Python_Workshop_day1.ipynb\" target=\"_parent\"><img src=\"https://colab.research.google.com/assets/colab-badge.svg\" alt=\"Open In Colab\"/></a>"
      ]
    },
    {
      "cell_type": "markdown",
      "source": [
        "\n",
        "1. Identify the Employee Category\n",
        "A company categorizes its employees based on their salaries:\n",
        "Salary above ₹50,000 → \"High Income\"\n",
        "Salary between ₹30,000 and ₹50,000 → \"Medium Income\"\n",
        "Salary below ₹30,000 → \"Low Income\"\n",
        "Write a Python program that takes an employee’s salary as input and prints their category.\n",
        "\n",
        "---\n",
        "\n"
      ],
      "metadata": {
        "id": "QZfN6_cPppj8"
      }
    },
    {
      "cell_type": "code",
      "source": [],
      "metadata": {
        "id": "5oyBiTKtpxwC"
      },
      "execution_count": null,
      "outputs": []
    },
    {
      "cell_type": "markdown",
      "source": [
        "2 . Odd or Even Streetlight System\n",
        "A city uses an even-odd rule to manage electricity usage in streetlights. Streetlights with even\n",
        "numbers are turned on at night, while odd-numbered lights remain off. Write a program that\n",
        "takes a streetlight number as input and prints whether it should be ON or OFF."
      ],
      "metadata": {
        "id": "CZwrwht6p78P"
      }
    },
    {
      "cell_type": "code",
      "source": [
        "# 2nd\n",
        "num = int(input(\"Enter streetlight number=\"))\n",
        "\n",
        "if num % 2==0:\n",
        "    print(\"Lights are ON..\")\n",
        "else:\n",
        "    print(\"Lights are OFF\")"
      ],
      "metadata": {
        "colab": {
          "base_uri": "https://localhost:8080/"
        },
        "id": "3vUgi_BtqOTG",
        "outputId": "11380d60-6b52-4387-8bff-c74f30079361"
      },
      "execution_count": null,
      "outputs": [
        {
          "output_type": "stream",
          "name": "stdout",
          "text": [
            "Enter streetlight number=4\n",
            "Lights are ON..\n"
          ]
        }
      ]
    },
    {
      "cell_type": "markdown",
      "source": [
        "3. Imagine you are designing a basic ATM-like interface where users can:\n",
        "1. Check Balance\n",
        "2. Deposit Money\n",
        "3. Withdraw Money\n",
        "4. Exit the System\n",
        "Your Task: Write a Python program that displays a menu, takes user input, and performs the\n",
        "respective operation based on the user's choice."
      ],
      "metadata": {
        "id": "yjXVuQN6qnFb"
      }
    },
    {
      "cell_type": "code",
      "source": [
        "# 3rd\n",
        "\n",
        "print(\"WELCOME !!\")\n",
        "balance = 50000\n",
        "\n",
        "print(\"MENU =>\\n 1.Check balance\\n 2.Deposite money\\n 3.Withdraw money\\n 4.Exit the system..\")\n",
        "ch = int(input(\"Enter your choice=\"))\n",
        "\n",
        "if ch == 1:\n",
        "    print(\"Balance is=\",balance)\n",
        "elif ch == 2:\n",
        "    deposite = int(input(\"Enter the amount to deposite=\"))\n",
        "    new_bal = balance + deposite\n",
        "    print(\"New balance=\",new_bal)\n",
        "elif ch == 3:\n",
        "    withdraw = int(input(\"Enter amount to withdraw=\"))\n",
        "    new_bal1 = balance - withdraw\n",
        "    print(\"New balance=\",new_bal1)\n",
        "else:\n",
        "    print(\"Exit\")"
      ],
      "metadata": {
        "colab": {
          "base_uri": "https://localhost:8080/"
        },
        "id": "iDO_RPdtqopm",
        "outputId": "e971658b-0cbd-49b1-e08a-b279125ef006"
      },
      "execution_count": null,
      "outputs": [
        {
          "output_type": "stream",
          "name": "stdout",
          "text": [
            "WELCOME !!\n",
            "MENU =>\n",
            " 1.Check balance\n",
            " 2.Deposite money\n",
            " 3.Withdraw money\n",
            " 4.Exit the system..\n",
            "Enter your choice=2\n",
            "Enter the amount to deposite=5000\n",
            "New balance= 55000\n"
          ]
        }
      ]
    },
    {
      "cell_type": "markdown",
      "source": [
        "4. Counting Passengers in a Bus\n",
        "A city bus stops at different stations, and passengers board at each stop. The bus conductor\n",
        "notes down the number of passengers at each stop for 5 stops. Write a Python program to take\n",
        "input for each stop and calculate the total number of passengers at the end."
      ],
      "metadata": {
        "id": "QYi3extmq5qm"
      }
    },
    {
      "cell_type": "code",
      "source": [
        "total_pass = 0\n",
        "for stop in range(1, 6):\n",
        "    passengers = int(input(\"Enter number of passangers= \"))\n",
        "    total_pass += passengers\n",
        "print(\"Total passengers at the end are= \",total_pass)"
      ],
      "metadata": {
        "colab": {
          "base_uri": "https://localhost:8080/"
        },
        "id": "_beQYV2Qq-YY",
        "outputId": "92a06fd7-88a9-4b91-96e3-bc629ec3edab"
      },
      "execution_count": null,
      "outputs": [
        {
          "output_type": "stream",
          "name": "stdout",
          "text": [
            "Enter number of passangers= 7\n",
            "Enter number of passangers= 4\n",
            "Enter number of passangers= 3\n",
            "Enter number of passangers= 2\n",
            "Enter number of passangers= 1\n",
            "Total passengers at the end are=  17\n"
          ]
        }
      ]
    },
    {
      "cell_type": "markdown",
      "source": [
        "5. ATM PIN Verification\n",
        "A bank ATM allows a user to enter their PIN a maximum of 3 times. If the correct PIN (1234) is\n",
        "entered within 3 attempts, the user gains access; otherwise, the card is blocked. Write a Python\n",
        "program for this."
      ],
      "metadata": {
        "id": "_u1Jayv1rM0b"
      }
    },
    {
      "cell_type": "code",
      "source": [
        "correct_pin = \"1234\"\n",
        "attempts = 3\n",
        "\n",
        "for i in range(attempts):\n",
        "    pin = input(\"Enter your ATM pin= \")\n",
        "\n",
        "    if pin == correct_pin:\n",
        "        print(\"Access granted!\")\n",
        "        break\n",
        "    else:\n",
        "        rem_attempts = attempts-(i + 1)\n",
        "        if rem_attempts > 0:\n",
        "            print(\"Wrong PIN\")\n",
        "        else:\n",
        "            print(\"Your card is blocked!\")\n"
      ],
      "metadata": {
        "colab": {
          "base_uri": "https://localhost:8080/"
        },
        "id": "1R-MU7vsrSuR",
        "outputId": "071707d6-9d4a-4c08-f07f-85ab1d399ce3"
      },
      "execution_count": null,
      "outputs": [
        {
          "output_type": "stream",
          "name": "stdout",
          "text": [
            "Enter your ATM pin= 5643\n",
            "Wrong PIN\n",
            "Enter your ATM pin= 1234\n",
            "Access granted!\n"
          ]
        }
      ]
    },
    {
      "cell_type": "markdown",
      "source": [
        "6. Reverse a Number\n",
        "Write a Python program to reverse a given number. For example, if the input is 12345, the\n",
        "output should be 54321."
      ],
      "metadata": {
        "id": "cZj2aBjjreXQ"
      }
    },
    {
      "cell_type": "code",
      "source": [
        "num = int(input(\"Enter a number= \"))\n",
        "rev_num = 0\n",
        "\n",
        "while num > 0:\n",
        "    dig = num % 10\n",
        "    rev_num = rev_num * 10 + dig\n",
        "    num = num // 10\n",
        "\n",
        "print(\"Reversed number is= \", rev_num)"
      ],
      "metadata": {
        "colab": {
          "base_uri": "https://localhost:8080/"
        },
        "id": "nkRY66qYrkA7",
        "outputId": "1301d192-70d3-4867-d3bf-a1a1f9de5ab6"
      },
      "execution_count": null,
      "outputs": [
        {
          "output_type": "stream",
          "name": "stdout",
          "text": [
            "Enter a number= 5432\n",
            "Reversed number is=  2345\n"
          ]
        }
      ]
    },
    {
      "cell_type": "markdown",
      "source": [
        "8. Shopping Cart - List Operations\n",
        "�\n",
        "�\n",
        " You are creating a shopping cart program. Users should be able to add items to the cart and\n",
        "view the final list. Implement a program that allows a user to add items (names of products) until\n",
        "they type \"done\" and then prints all the items in the cart"
      ],
      "metadata": {
        "id": "yfGBiPqosdgV"
      }
    },
    {
      "cell_type": "code",
      "source": [
        "cart = []\n",
        "\n",
        "while True:\n",
        "    item = input(\"Enter items and type 'done' to finish= \")\n",
        "    if item.lower() == \"done\":\n",
        "        break\n",
        "    cart.append(item)\n",
        "print(\"\\nShopping cart items= \",cart)"
      ],
      "metadata": {
        "colab": {
          "base_uri": "https://localhost:8080/"
        },
        "id": "ybII-B03smhn",
        "outputId": "e680d943-31ac-4946-d063-681cee8261c3"
      },
      "execution_count": null,
      "outputs": [
        {
          "output_type": "stream",
          "name": "stdout",
          "text": [
            "Enter items and type 'done' to finish= sugar\n",
            "Enter items and type 'done' to finish= soap\n",
            "Enter items and type 'done' to finish= lays\n",
            "Enter items and type 'done' to finish= poha\n",
            "Enter items and type 'done' to finish= rice\n",
            "Enter items and type 'done' to finish= done\n",
            "\n",
            "Shopping cart items=  ['sugar', 'soap', 'lays', 'poha', 'rice']\n"
          ]
        }
      ]
    },
    {
      "cell_type": "markdown",
      "source": [
        "10 . Movie Collection - Dictionary\n",
        "�\n",
        "�\n",
        " You are maintaining a movie collection where each movie has a rating (out of 10). Write a\n",
        "program to add movies, update ratings, and display all movies with their ratings."
      ],
      "metadata": {
        "id": "E8uYDLAXtR0s"
      }
    },
    {
      "cell_type": "code",
      "source": [
        "#10th\n",
        "movies = {}\n",
        "\n",
        "while True:\n",
        "    print(\"1.Add movies\\n 2.Update ratings\\n 3.Display movies\\n 4.Exit\")\n",
        "    ch = input(\"Enter your choice=\")\n",
        "\n",
        "    if ch == \"1\":\n",
        "        movie = input(\"Enter movie name=\")\n",
        "        rating = float(input(\"Enter rating out of 10=\"))\n",
        "        movies[movie] = rating\n",
        "        print(f'Movie \"{movie}\" with rating of {rating}/10')\n",
        "\n",
        "    elif ch == \"2\":\n",
        "        movie = input(\"Enter movie to update=\")\n",
        "        if movie in movies:\n",
        "            rating = float(input(\"Enter updated rating=\"))\n",
        "            movies[movie] = rating\n",
        "            print(f'Updated rating for \"{movie}\" is {rating}/10')\n",
        "        else:\n",
        "            print(\"Movie not found..\")\n",
        "\n",
        "    elif ch == \"3\":\n",
        "        if movies:\n",
        "            print(\"Your collection..\")\n",
        "        for movie, rating in movies.items():\n",
        "            print(f\"{movie} = {rating}/10\")\n",
        "        else:\n",
        "            print(\"No movies to show..\")\n",
        "\n",
        "    elif ch == \"4\":\n",
        "        print(\"Exit..\")\n",
        "        break"
      ],
      "metadata": {
        "colab": {
          "base_uri": "https://localhost:8080/"
        },
        "id": "p3X3J8adtlCa",
        "outputId": "287fcdd3-e6d7-4603-92c8-12075682b6b0"
      },
      "execution_count": null,
      "outputs": [
        {
          "output_type": "stream",
          "name": "stdout",
          "text": [
            "1.Add movies\n",
            " 2.Update ratings\n",
            " 3.Display movies\n",
            " 4.Exit\n",
            "Enter your choice=1\n",
            "Enter movie name=Chhava\n",
            "Enter rating out of 10=9.5\n",
            "Movie \"Chhava\" with rating of 9.5/10\n",
            "1.Add movies\n",
            " 2.Update ratings\n",
            " 3.Display movies\n",
            " 4.Exit\n",
            "Enter your choice=3\n",
            "Your collection..\n",
            "Chhava = 9.5/10\n",
            "No movies to show..\n",
            "1.Add movies\n",
            " 2.Update ratings\n",
            " 3.Display movies\n",
            " 4.Exit\n",
            "Enter your choice=4\n",
            "Exit..\n"
          ]
        }
      ]
    },
    {
      "cell_type": "markdown",
      "source": [
        "13. Student Grade Calculator\n",
        "�\n",
        "�\n",
        " Create a function that takes a student's marks and returns their grade based on the following\n",
        "criteria:\n",
        "● 90-100: A\n",
        "● 80-89: B\n",
        "● 70-79: C\n",
        "● 60-69: D\n",
        "● Below 60: F"
      ],
      "metadata": {
        "id": "fOlXkzRsuBYB"
      }
    },
    {
      "cell_type": "code",
      "source": [
        "def stud_grade(marks):\n",
        "    if 90 <= marks <= 100:\n",
        "        return \"A\"\n",
        "    elif 80 <= marks <= 89:\n",
        "        return \"B\"\n",
        "    elif 70 <= marks <= 79:\n",
        "        return \"C\"\n",
        "    elif 60 <= marks <= 69:\n",
        "        return \"D\"\n",
        "    else:\n",
        "        return \"F\"\n",
        "\n",
        "marks = int(input(\"Enter the grades= \"))\n",
        "print(\"Grade=\",stud_grade(marks))"
      ],
      "metadata": {
        "colab": {
          "base_uri": "https://localhost:8080/"
        },
        "id": "zIn-iRe6uJnD",
        "outputId": "8e8af4ee-6a5b-4d38-9b12-2545ca980ec0"
      },
      "execution_count": null,
      "outputs": [
        {
          "output_type": "stream",
          "name": "stdout",
          "text": [
            "Enter the grades= 90\n",
            "Grade= A\n"
          ]
        }
      ]
    },
    {
      "cell_type": "markdown",
      "source": [
        "14. Simple Calculator Using Functions\n",
        "�\n",
        "�\n",
        " *Write a calculator function that takes two numbers and an operator (+, -, , /) and returns the\n",
        "result.\n"
      ],
      "metadata": {
        "id": "wKFpDo2cukJi"
      }
    },
    {
      "cell_type": "code",
      "source": [
        "def calculator():\n",
        "    num1 = int(input(\"Enter 1st number= \"))\n",
        "    num2 = int(input(\"Enter 2nd number= \"))\n",
        "    operator = input(\"Enter an operator: \")\n",
        "\n"
      ],
      "metadata": {
        "id": "IigpZ2GGul0O"
      },
      "execution_count": null,
      "outputs": []
    }
  ]
}