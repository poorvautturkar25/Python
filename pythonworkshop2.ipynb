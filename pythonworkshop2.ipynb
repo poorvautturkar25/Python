{
  "nbformat": 4,
  "nbformat_minor": 0,
  "metadata": {
    "colab": {
      "provenance": [],
      "authorship_tag": "ABX9TyM3+PaRoE9pJNzXbn0+Mhpr",
      "include_colab_link": true
    },
    "kernelspec": {
      "name": "python3",
      "display_name": "Python 3"
    },
    "language_info": {
      "name": "python"
    }
  },
  "cells": [
    {
      "cell_type": "markdown",
      "metadata": {
        "id": "view-in-github",
        "colab_type": "text"
      },
      "source": [
        "<a href=\"https://colab.research.google.com/github/poorvautturkar25/Python/blob/main/pythonworkshop2.ipynb\" target=\"_parent\"><img src=\"https://colab.research.google.com/assets/colab-badge.svg\" alt=\"Open In Colab\"/></a>"
      ]
    },
    {
      "cell_type": "markdown",
      "source": [
        "1. Sales Performance Analysis (Highest and Lowest Sales)\n",
        "📌 A company records monthly sales in an array: [5000, 7000, 8000, 6500, 7200,\n",
        "9000, 8500]. Find and print the highest and lowest sales values.\n"
      ],
      "metadata": {
        "id": "tVf4wTgG-hqt"
      }
    },
    {
      "cell_type": "code",
      "source": [
        "sales = [5000, 7000, 8000, 6500, 7200, 9000, 8500]\n",
        "\n",
        "highest_sales = max(sales)\n",
        "lowest_sales =  min(sales)\n",
        "\n",
        "print(f\"highest sales are {highest_sales}\")\n",
        "print(f\"lowest sales are {lowest_sales}\")\n"
      ],
      "metadata": {
        "colab": {
          "base_uri": "https://localhost:8080/"
        },
        "id": "Z-eeiWlK-hAO",
        "outputId": "48313d6d-d1d3-4bbb-bf86-ffb3be1de365"
      },
      "execution_count": null,
      "outputs": [
        {
          "output_type": "stream",
          "name": "stdout",
          "text": [
            "highest sales are 9000\n",
            "lowest sales are 5000\n"
          ]
        }
      ]
    },
    {
      "cell_type": "markdown",
      "source": [
        "2. Reshape a 1D Array into a 2D Matrix\n",
        "📌 A company's quarterly sales data is stored in a 1D NumPy array: [1000, 1200, 1500,\n",
        "1800, 2000, 2100, 2500, 2700]. Convert it into a 2D array with 4 rows and 2 columns\n",
        "representing sales per quarter."
      ],
      "metadata": {
        "id": "IY1M2uM__QOc"
      }
    },
    {
      "cell_type": "code",
      "execution_count": null,
      "metadata": {
        "colab": {
          "base_uri": "https://localhost:8080/"
        },
        "id": "HUA8jhTk-Dag",
        "outputId": "308550aa-b508-4e2b-8a19-db8dfbba5190"
      },
      "outputs": [
        {
          "output_type": "stream",
          "name": "stdout",
          "text": [
            "[[1000 1200]\n",
            " [1500 1800]\n",
            " [2000 2100]\n",
            " [2500 2700]]\n"
          ]
        }
      ],
      "source": [
        "import numpy as np\n",
        "arr = np.array([1000,1200,1500,1800,2000,2100,2500,2700])\n",
        "arr_2d= arr.reshape(4,2)\n",
        "print(arr_2d)"
      ]
    },
    {
      "cell_type": "markdown",
      "source": [
        "3. Calculate Total Revenue from Products Sold\n",
        "📌 A store sells 4 types of products. The quantity sold and the price per unit are stored as\n",
        "NumPy arrays:\n",
        "quantities = np.array([10, 15, 7, 20]) # Number of units sold\n",
        "prices = np.array([50, 40, 100, 30]) # Price per unit\n",
        "\n",
        "\n"
      ],
      "metadata": {
        "id": "buEL8gLsAFYz"
      }
    },
    {
      "cell_type": "code",
      "source": [
        "import numpy as np\n",
        "\n",
        "quantities = np.array([10, 15, 7, 20])\n",
        "prices = np.array([50, 40, 100, 30])\n",
        "\n",
        "total_revenue = np.sum(quantities * prices)\n",
        "print(f\"total revenue is {total_revenue}\")\n",
        "\n",
        "\n"
      ],
      "metadata": {
        "colab": {
          "base_uri": "https://localhost:8080/"
        },
        "id": "4MBrE86xAUFr",
        "outputId": "3b225864-8507-4655-f814-d15b13fdc754"
      },
      "execution_count": null,
      "outputs": [
        {
          "output_type": "stream",
          "name": "stdout",
          "text": [
            "total revenue is 2400\n"
          ]
        }
      ]
    },
    {
      "cell_type": "markdown",
      "source": [
        "4. Find Students Who Passed (Marks >= 40)\n",
        "📌 A class has students' marks stored in an array: [35, 60, 42, 75, 29, 90, 55]. Find\n",
        "and print the marks of students who passed (≥ 40)."
      ],
      "metadata": {
        "id": "1JpfAqIlAanj"
      }
    },
    {
      "cell_type": "code",
      "source": [
        "import numpy as np\n",
        "marks=np.array([35, 60, 42, 75, 29, 90, 55])\n",
        "\n",
        "for mark in marks:\n",
        "  if mark >=40:\n",
        "    print(mark)\n"
      ],
      "metadata": {
        "colab": {
          "base_uri": "https://localhost:8080/"
        },
        "id": "10bEdtcEAiXi",
        "outputId": "49b80363-1e5c-4be7-851d-a4aa25ec59f4"
      },
      "execution_count": null,
      "outputs": [
        {
          "output_type": "stream",
          "name": "stdout",
          "text": [
            "60\n",
            "42\n",
            "75\n",
            "90\n",
            "55\n"
          ]
        }
      ]
    },
    {
      "cell_type": "markdown",
      "source": [
        "5. Find the Most Frequent Element in an Array\n",
        "📌 Given a NumPy array [1, 2, 2, 3, 3, 3, 4, 4, 4, 4], determine which element\n",
        "appears the most times.\n"
      ],
      "metadata": {
        "id": "90qA3CsDBTvD"
      }
    },
    {
      "cell_type": "code",
      "source": [
        "import numpy as np\n",
        "arr =np.array([1, 2, 2, 3, 3, 3, 4, 4, 4, 4])\n",
        "np.unique(arr)\n",
        "\n",
        "\n",
        "\n",
        "\n",
        "\n"
      ],
      "metadata": {
        "colab": {
          "base_uri": "https://localhost:8080/"
        },
        "id": "QqUMco5gBcBa",
        "outputId": "54b900f6-44c6-42be-95e7-af6cf8b72617"
      },
      "execution_count": null,
      "outputs": [
        {
          "output_type": "stream",
          "name": "stdout",
          "text": [
            "The most Frequent element in array is [1 2 2 3 3 3 4 4 4 4]\n"
          ]
        }
      ]
    },
    {
      "cell_type": "markdown",
      "source": [
        "6. Normalize an Array (Scaling Values Between 0 and 1)\n",
        "📌 You have an array of exam scores: [50, 80, 90, 60, 75, 85]. Normalize them\n",
        "between 0 and 1 using Min-Max Scaling.\n"
      ],
      "metadata": {
        "id": "QZ_c5lKNCW0a"
      }
    },
    {
      "cell_type": "code",
      "source": [
        "scores = [50, 80, 90, 60, 75, 85]\n",
        "scores_array = np.array(scores)\n",
        "\n",
        "min_score = np.min(scores_array)\n",
        "max_score = np.max(scores_array)\n",
        "\n",
        "normalized_scores = (scores_array - min_score) / (max_score - min_score)\n",
        "\n",
        "print(f\"Normalized Scores are {normalized_scores}\")"
      ],
      "metadata": {
        "colab": {
          "base_uri": "https://localhost:8080/"
        },
        "id": "V0sYuf6GCrQi",
        "outputId": "e7509b6f-83f5-4534-a8fc-2a3f6f8d1945"
      },
      "execution_count": null,
      "outputs": [
        {
          "output_type": "stream",
          "name": "stdout",
          "text": [
            "Normalized Scores are [0.    0.75  1.    0.25  0.625 0.875]\n"
          ]
        }
      ]
    },
    {
      "cell_type": "markdown",
      "source": [
        "7. Load the Dataset and Display Basic Info\n",
        "📌 You are given the Social_Network_Ads.csv dataset. Load it into a Pandas DataFrame\n",
        "and display the first 5 rows along with dataset summary information."
      ],
      "metadata": {
        "id": "2pexfnt7IwNw"
      }
    },
    {
      "cell_type": "code",
      "source": [],
      "metadata": {
        "id": "JfCqHhdWI16Y"
      },
      "execution_count": null,
      "outputs": []
    }
  ]
}